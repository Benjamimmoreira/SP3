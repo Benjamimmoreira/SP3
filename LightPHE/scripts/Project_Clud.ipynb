{
 "cells": [
  {
   "cell_type": "code",
   "execution_count": 2,
   "metadata": {},
   "outputs": [
    {
     "name": "stdout",
     "output_type": "stream",
     "text": [
      "Requirement already satisfied: lightphe in c:\\users\\benja\\onedrive\\ambiente de trabalho\\python\\pytorch\\pytorch_notebooks\\.conda\\lib\\site-packages (0.0.8)\n",
      "Requirement already satisfied: sympy==1.12 in c:\\users\\benja\\onedrive\\ambiente de trabalho\\python\\pytorch\\pytorch_notebooks\\.conda\\lib\\site-packages (from lightphe) (1.12)\n",
      "Requirement already satisfied: pytest==7.1.2 in c:\\users\\benja\\onedrive\\ambiente de trabalho\\python\\pytorch\\pytorch_notebooks\\.conda\\lib\\site-packages (from lightphe) (7.1.2)\n",
      "Requirement already satisfied: attrs>=19.2.0 in c:\\users\\benja\\onedrive\\ambiente de trabalho\\python\\pytorch\\pytorch_notebooks\\.conda\\lib\\site-packages (from pytest==7.1.2->lightphe) (24.2.0)\n",
      "Requirement already satisfied: iniconfig in c:\\users\\benja\\onedrive\\ambiente de trabalho\\python\\pytorch\\pytorch_notebooks\\.conda\\lib\\site-packages (from pytest==7.1.2->lightphe) (2.0.0)\n",
      "Requirement already satisfied: packaging in c:\\users\\benja\\appdata\\roaming\\python\\python312\\site-packages (from pytest==7.1.2->lightphe) (23.2)\n",
      "Requirement already satisfied: pluggy<2.0,>=0.12 in c:\\users\\benja\\onedrive\\ambiente de trabalho\\python\\pytorch\\pytorch_notebooks\\.conda\\lib\\site-packages (from pytest==7.1.2->lightphe) (1.5.0)\n",
      "Requirement already satisfied: py>=1.8.2 in c:\\users\\benja\\onedrive\\ambiente de trabalho\\python\\pytorch\\pytorch_notebooks\\.conda\\lib\\site-packages (from pytest==7.1.2->lightphe) (1.11.0)\n",
      "Requirement already satisfied: tomli>=1.0.0 in c:\\users\\benja\\onedrive\\ambiente de trabalho\\python\\pytorch\\pytorch_notebooks\\.conda\\lib\\site-packages (from pytest==7.1.2->lightphe) (2.2.1)\n",
      "Requirement already satisfied: atomicwrites>=1.0 in c:\\users\\benja\\onedrive\\ambiente de trabalho\\python\\pytorch\\pytorch_notebooks\\.conda\\lib\\site-packages (from pytest==7.1.2->lightphe) (1.4.1)\n",
      "Requirement already satisfied: colorama in c:\\users\\benja\\appdata\\roaming\\python\\python312\\site-packages (from pytest==7.1.2->lightphe) (0.4.6)\n",
      "Requirement already satisfied: mpmath>=0.19 in c:\\users\\benja\\onedrive\\ambiente de trabalho\\python\\pytorch\\pytorch_notebooks\\.conda\\lib\\site-packages (from sympy==1.12->lightphe) (1.3.0)\n",
      "Note: you may need to restart the kernel to use updated packages.\n"
     ]
    }
   ],
   "source": [
    "%pip install lightphe\n",
    "\n",
    "from lightphe import LightPHE"
   ]
  },
  {
   "cell_type": "code",
   "execution_count": 4,
   "metadata": {},
   "outputs": [
    {
     "name": "stdout",
     "output_type": "stream",
     "text": [
      "24-12-12 20:34:45 - public key is restored from public.txt\n"
     ]
    }
   ],
   "source": [
    "cs = LightPHE(algorithm_name=\"Paillier\", key_file=\"public.txt\")"
   ]
  },
  {
   "cell_type": "code",
   "execution_count": 6,
   "metadata": {},
   "outputs": [
    {
     "data": {
      "text/plain": [
       "Ciphertext(164746739578483907502654142107013737250896840072696589175320519229735915199615088807119027582391794715218150661774078696675405155031105756990966497488082278360640915480010907422850416161913544331945848951563548714622561885919397415139002022097520210421922526223803192933599912025420534821007887427350216619265794743102485876684226385102186345596553445082559563214532719171381272378297288921984371747765577300560877928163996636782134952871222591083870794560765439922798240996984703245639957517214817954479889413163498433837205961356975958345809491331280092706891885792547139233445291594459605740480601056409640318525)"
      ]
     },
     "execution_count": 6,
     "metadata": {},
     "output_type": "execute_result"
    }
   ],
   "source": [
    "cs.create_ciphertext_obj(164746739578483907502654142107013737250896840072696589175320519229735915199615088807119027582391794715218150661774078696675405155031105756990966497488082278360640915480010907422850416161913544331945848951563548714622561885919397415139002022097520210421922526223803192933599912025420534821007887427350216619265794743102485876684226385102186345596553445082559563214532719171381272378297288921984371747765577300560877928163996636782134952871222591083870794560765439922798240996984703245639957517214817954479889413163498433837205961356975958345809491331280092706891885792547139233445291594459605740480601056409640318525)"
   ]
  },
  {
   "cell_type": "code",
   "execution_count": 7,
   "metadata": {},
   "outputs": [],
   "source": [
    "c2 = cs.create_ciphertext_obj(314307627635773203014860829408119825346776733232771948772510454563171765129436101425450108543434865373772845383751334842867686896475332336346915777197000039889498225624445030991091847113153914873232744769626392921825575551648646772802755242315068448416729858913105599166632057147449909218196676497190210395943386230835625417852878268377672744029507452368542212276408903410870008654926678022585030432166672938050235021900760229550305706579101495133217003707739325708697025819682122346888359898763209461415110311743858818407032194763728381315254428884055634159564003972463050701699512578911527768705539012061877789853)"
   ]
  },
  {
   "cell_type": "code",
   "execution_count": 8,
   "metadata": {},
   "outputs": [
    {
     "ename": "ValueError",
     "evalue": "You must have private key to perform decryption",
     "output_type": "error",
     "traceback": [
      "\u001b[1;31m---------------------------------------------------------------------------\u001b[0m",
      "\u001b[1;31mValueError\u001b[0m                                Traceback (most recent call last)",
      "Cell \u001b[1;32mIn[8], line 1\u001b[0m\n\u001b[1;32m----> 1\u001b[0m \u001b[43mcs\u001b[49m\u001b[38;5;241;43m.\u001b[39;49m\u001b[43mdecrypt\u001b[49m\u001b[43m(\u001b[49m\u001b[43mc2\u001b[49m\u001b[43m)\u001b[49m\n",
      "File \u001b[1;32mc:\\Users\\benja\\OneDrive\\Ambiente de Trabalho\\Python\\Pytorch\\PYTORCH_NOTEBOOKS\\.conda\\Lib\\site-packages\\lightphe\\__init__.py:142\u001b[0m, in \u001b[0;36mLightPHE.decrypt\u001b[1;34m(self, ciphertext)\u001b[0m\n\u001b[0;32m    134\u001b[0m \u001b[38;5;250m\u001b[39m\u001b[38;5;124;03m\"\"\"\u001b[39;00m\n\u001b[0;32m    135\u001b[0m \u001b[38;5;124;03mDecrypt a ciphertext with a buit cryptosystem\u001b[39;00m\n\u001b[0;32m    136\u001b[0m \u001b[38;5;124;03mArgs:\u001b[39;00m\n\u001b[1;32m   (...)\u001b[0m\n\u001b[0;32m    139\u001b[0m \u001b[38;5;124;03m    plaintext (int): restored message\u001b[39;00m\n\u001b[0;32m    140\u001b[0m \u001b[38;5;124;03m\"\"\"\u001b[39;00m\n\u001b[0;32m    141\u001b[0m \u001b[38;5;28;01mif\u001b[39;00m \u001b[38;5;28mself\u001b[39m\u001b[38;5;241m.\u001b[39mcs\u001b[38;5;241m.\u001b[39mkeys\u001b[38;5;241m.\u001b[39mget(\u001b[38;5;124m\"\u001b[39m\u001b[38;5;124mprivate_key\u001b[39m\u001b[38;5;124m\"\u001b[39m) \u001b[38;5;129;01mis\u001b[39;00m \u001b[38;5;28;01mNone\u001b[39;00m:\n\u001b[1;32m--> 142\u001b[0m     \u001b[38;5;28;01mraise\u001b[39;00m \u001b[38;5;167;01mValueError\u001b[39;00m(\u001b[38;5;124m\"\u001b[39m\u001b[38;5;124mYou must have private key to perform decryption\u001b[39m\u001b[38;5;124m\"\u001b[39m)\n\u001b[0;32m    144\u001b[0m \u001b[38;5;28;01mif\u001b[39;00m \u001b[38;5;28mself\u001b[39m\u001b[38;5;241m.\u001b[39mcs\u001b[38;5;241m.\u001b[39mkeys\u001b[38;5;241m.\u001b[39mget(\u001b[38;5;124m\"\u001b[39m\u001b[38;5;124mpublic_key\u001b[39m\u001b[38;5;124m\"\u001b[39m) \u001b[38;5;129;01mis\u001b[39;00m \u001b[38;5;28;01mNone\u001b[39;00m:\n\u001b[0;32m    145\u001b[0m     \u001b[38;5;28;01mraise\u001b[39;00m \u001b[38;5;167;01mValueError\u001b[39;00m(\u001b[38;5;124m\"\u001b[39m\u001b[38;5;124mYou must have public key to perform decryption\u001b[39m\u001b[38;5;124m\"\u001b[39m)\n",
      "\u001b[1;31mValueError\u001b[0m: You must have private key to perform decryption"
     ]
    }
   ],
   "source": [
    "cs.decrypt(c2)"
   ]
  },
  {
   "cell_type": "code",
   "execution_count": 9,
   "metadata": {},
   "outputs": [
    {
     "ename": "NameError",
     "evalue": "name 'c1' is not defined",
     "output_type": "error",
     "traceback": [
      "\u001b[1;31m---------------------------------------------------------------------------\u001b[0m",
      "\u001b[1;31mNameError\u001b[0m                                 Traceback (most recent call last)",
      "Cell \u001b[1;32mIn[9], line 1\u001b[0m\n\u001b[1;32m----> 1\u001b[0m c3 \u001b[38;5;241m=\u001b[39m \u001b[43mc1\u001b[49m\u001b[38;5;241m+\u001b[39m c2\n",
      "\u001b[1;31mNameError\u001b[0m: name 'c1' is not defined"
     ]
    }
   ],
   "source": [
    "c3 = c1+ c2"
   ]
  },
  {
   "cell_type": "code",
   "execution_count": 10,
   "metadata": {},
   "outputs": [
    {
     "ename": "NameError",
     "evalue": "name 'c1' is not defined",
     "output_type": "error",
     "traceback": [
      "\u001b[1;31m---------------------------------------------------------------------------\u001b[0m",
      "\u001b[1;31mNameError\u001b[0m                                 Traceback (most recent call last)",
      "Cell \u001b[1;32mIn[10], line 1\u001b[0m\n\u001b[1;32m----> 1\u001b[0m \u001b[43mc1\u001b[49m \u001b[38;5;241m^\u001b[39mc2\n",
      "\u001b[1;31mNameError\u001b[0m: name 'c1' is not defined"
     ]
    }
   ],
   "source": [
    "c1 ^c2"
   ]
  }
 ],
 "metadata": {
  "kernelspec": {
   "display_name": ".conda",
   "language": "python",
   "name": "python3"
  },
  "language_info": {
   "codemirror_mode": {
    "name": "ipython",
    "version": 3
   },
   "file_extension": ".py",
   "mimetype": "text/x-python",
   "name": "python",
   "nbconvert_exporter": "python",
   "pygments_lexer": "ipython3",
   "version": "3.12.2"
  }
 },
 "nbformat": 4,
 "nbformat_minor": 2
}
