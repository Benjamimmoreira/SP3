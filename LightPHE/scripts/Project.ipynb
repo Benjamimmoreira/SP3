{
 "cells": [
  {
   "cell_type": "code",
   "execution_count": 3,
   "metadata": {},
   "outputs": [
    {
     "name": "stdout",
     "output_type": "stream",
     "text": [
      "Requirement already satisfied: lightphe in c:\\users\\benja\\onedrive\\ambiente de trabalho\\python\\pytorch\\pytorch_notebooks\\.conda\\lib\\site-packages (0.0.8)\n",
      "Requirement already satisfied: sympy==1.12 in c:\\users\\benja\\onedrive\\ambiente de trabalho\\python\\pytorch\\pytorch_notebooks\\.conda\\lib\\site-packages (from lightphe) (1.12)\n",
      "Requirement already satisfied: pytest==7.1.2 in c:\\users\\benja\\onedrive\\ambiente de trabalho\\python\\pytorch\\pytorch_notebooks\\.conda\\lib\\site-packages (from lightphe) (7.1.2)\n",
      "Requirement already satisfied: attrs>=19.2.0 in c:\\users\\benja\\onedrive\\ambiente de trabalho\\python\\pytorch\\pytorch_notebooks\\.conda\\lib\\site-packages (from pytest==7.1.2->lightphe) (24.2.0)\n",
      "Requirement already satisfied: iniconfig in c:\\users\\benja\\onedrive\\ambiente de trabalho\\python\\pytorch\\pytorch_notebooks\\.conda\\lib\\site-packages (from pytest==7.1.2->lightphe) (2.0.0)\n",
      "Requirement already satisfied: packaging in c:\\users\\benja\\appdata\\roaming\\python\\python312\\site-packages (from pytest==7.1.2->lightphe) (23.2)\n",
      "Requirement already satisfied: pluggy<2.0,>=0.12 in c:\\users\\benja\\onedrive\\ambiente de trabalho\\python\\pytorch\\pytorch_notebooks\\.conda\\lib\\site-packages (from pytest==7.1.2->lightphe) (1.5.0)\n",
      "Requirement already satisfied: py>=1.8.2 in c:\\users\\benja\\onedrive\\ambiente de trabalho\\python\\pytorch\\pytorch_notebooks\\.conda\\lib\\site-packages (from pytest==7.1.2->lightphe) (1.11.0)\n",
      "Requirement already satisfied: tomli>=1.0.0 in c:\\users\\benja\\onedrive\\ambiente de trabalho\\python\\pytorch\\pytorch_notebooks\\.conda\\lib\\site-packages (from pytest==7.1.2->lightphe) (2.2.1)\n",
      "Requirement already satisfied: atomicwrites>=1.0 in c:\\users\\benja\\onedrive\\ambiente de trabalho\\python\\pytorch\\pytorch_notebooks\\.conda\\lib\\site-packages (from pytest==7.1.2->lightphe) (1.4.1)\n",
      "Requirement already satisfied: colorama in c:\\users\\benja\\appdata\\roaming\\python\\python312\\site-packages (from pytest==7.1.2->lightphe) (0.4.6)\n",
      "Requirement already satisfied: mpmath>=0.19 in c:\\users\\benja\\onedrive\\ambiente de trabalho\\python\\pytorch\\pytorch_notebooks\\.conda\\lib\\site-packages (from sympy==1.12->lightphe) (1.3.0)\n",
      "Note: you may need to restart the kernel to use updated packages.\n"
     ]
    }
   ],
   "source": [
    "%pip install lightphe\n",
    "from lightphe import LightPHE"
   ]
  },
  {
   "cell_type": "code",
   "execution_count": 4,
   "metadata": {},
   "outputs": [],
   "source": [
    "cs =LightPHE(algorithm_name=\"Paillier\",key_size=1024)"
   ]
  },
  {
   "cell_type": "code",
   "execution_count": 5,
   "metadata": {},
   "outputs": [],
   "source": [
    "cs.export_keys(target_file=\"public.txt\", public=True)"
   ]
  },
  {
   "cell_type": "code",
   "execution_count": 6,
   "metadata": {},
   "outputs": [],
   "source": [
    "m1 = 1000 # base salary\n",
    "c1 = cs.encrypt(m1)"
   ]
  },
  {
   "cell_type": "code",
   "execution_count": 7,
   "metadata": {},
   "outputs": [
    {
     "data": {
      "text/plain": [
       "Ciphertext(787917562554778210757946105436400590798851357510148115747782866442609025090415932437091200604442546500572123499562315915459029445098170882773145977787489689017525651269179974518174423630645442234693628206456505143330005286770649862979647287018235959728730208312369126202244260683345439044899094132473282219322210581107130300833343888983631465510908434512762355952934422187313089292595843639204340053069627371857732692773830695334577463495183687011982401818242859361423765944355277672269573468459409985341259876936924628050242888236121562301020437792133627224889566442024563223685764238832360768692618912438221123963)"
      ]
     },
     "execution_count": 7,
     "metadata": {},
     "output_type": "execute_result"
    }
   ],
   "source": [
    "c1"
   ]
  },
  {
   "cell_type": "code",
   "execution_count": 8,
   "metadata": {},
   "outputs": [],
   "source": [
    "m2 = 2000\n",
    "c2=cs.encrypt(m2)"
   ]
  },
  {
   "cell_type": "code",
   "execution_count": 9,
   "metadata": {},
   "outputs": [
    {
     "data": {
      "text/plain": [
       "Ciphertext(417025006086140116220149676259162770622372964675362291391163388939608683467223380886148413628769680007838494543151519846538587016290273993348068008032721383430351579454124457454438182389008741608475907207938743591779186649212970049842382670012287284177652813091280229933212564211198329989142049148155483801088866792857264690771407014820021989518990285742587186660010543758884853227655785231014919599231599864374792308857552833592270781940222767864135094337618876837057980232148088028980788519723510129571574955335811127840379029178886717703769754988493750811484556367667071166456318968529976015454741108869345029128)"
      ]
     },
     "execution_count": 9,
     "metadata": {},
     "output_type": "execute_result"
    }
   ],
   "source": [
    "c2"
   ]
  },
  {
   "cell_type": "code",
   "execution_count": 10,
   "metadata": {},
   "outputs": [
    {
     "data": {
      "text/plain": [
       "1000"
      ]
     },
     "execution_count": 10,
     "metadata": {},
     "output_type": "execute_result"
    }
   ],
   "source": [
    "cs.decrypt(c1)"
   ]
  },
  {
   "cell_type": "code",
   "execution_count": 13,
   "metadata": {},
   "outputs": [
    {
     "data": {
      "text/plain": [
       "Ciphertext(201527297927272334605277315884343120369032678414039397710367597832953065248415544049922820983611517782886270229941182230657194137966454717355383074474131382442643328113388176289069434025883010814098840875844485046491105169529170426107034517583513420339637065426473349812459409909936051649727505439023518077697050320412720799945870070964387328711722222113481582097781470548783978033245343646780636644209824643533389416463461645082911412006818711823967751393668660829849101567039918961544474060690994668120298472501596210678337003817601316206253845102843437704564234193738500093405309365048246475092358229716867365525)"
      ]
     },
     "execution_count": 13,
     "metadata": {},
     "output_type": "execute_result"
    }
   ],
   "source": [
    "c3=c1+c2\n",
    "c3"
   ]
  },
  {
   "cell_type": "code",
   "execution_count": 11,
   "metadata": {},
   "outputs": [
    {
     "data": {
      "text/plain": [
       "2000"
      ]
     },
     "execution_count": 11,
     "metadata": {},
     "output_type": "execute_result"
    }
   ],
   "source": [
    "cs.decrypt(c2)"
   ]
  },
  {
   "cell_type": "code",
   "execution_count": 15,
   "metadata": {},
   "outputs": [],
   "source": [
    "c3 = cs.create_ciphertext_obj(201527297927272334605277315884343120369032678414039397710367597832953065248415544049922820983611517782886270229941182230657194137966454717355383074474131382442643328113388176289069434025883010814098840875844485046491105169529170426107034517583513420339637065426473349812459409909936051649727505439023518077697050320412720799945870070964387328711722222113481582097781470548783978033245343646780636644209824643533389416463461645082911412006818711823967751393668660829849101567039918961544474060690994668120298472501596210678337003817601316206253845102843437704564234193738500093405309365048246475092358229716867365525)"
   ]
  },
  {
   "cell_type": "code",
   "execution_count": 17,
   "metadata": {},
   "outputs": [],
   "source": [
    "assert cs.decrypt(c3)== m1 + m2 "
   ]
  },
  {
   "cell_type": "code",
   "execution_count": 18,
   "metadata": {},
   "outputs": [
    {
     "ename": "ValueError",
     "evalue": "Paillier is not homomorphic with respect to the exclusive or",
     "output_type": "error",
     "traceback": [
      "\u001b[1;31m---------------------------------------------------------------------------\u001b[0m",
      "\u001b[1;31mValueError\u001b[0m                                Traceback (most recent call last)",
      "Cell \u001b[1;32mIn[18], line 1\u001b[0m\n\u001b[1;32m----> 1\u001b[0m \u001b[43mc1\u001b[49m\u001b[43m \u001b[49m\u001b[38;5;241;43m^\u001b[39;49m\u001b[43mc2\u001b[49m\n",
      "File \u001b[1;32mc:\\Users\\benja\\OneDrive\\Ambiente de Trabalho\\Python\\Pytorch\\PYTORCH_NOTEBOOKS\\.conda\\Lib\\site-packages\\lightphe\\models\\Ciphertext.py:118\u001b[0m, in \u001b[0;36mCiphertext.__xor__\u001b[1;34m(self, other)\u001b[0m\n\u001b[0;32m    115\u001b[0m \u001b[38;5;28;01mif\u001b[39;00m \u001b[38;5;28mself\u001b[39m\u001b[38;5;241m.\u001b[39mcs\u001b[38;5;241m.\u001b[39mkeys\u001b[38;5;241m.\u001b[39mget(\u001b[38;5;124m\"\u001b[39m\u001b[38;5;124mpublic_key\u001b[39m\u001b[38;5;124m\"\u001b[39m) \u001b[38;5;129;01mis\u001b[39;00m \u001b[38;5;28;01mNone\u001b[39;00m:\n\u001b[0;32m    116\u001b[0m     \u001b[38;5;28;01mraise\u001b[39;00m \u001b[38;5;167;01mValueError\u001b[39;00m(\u001b[38;5;124m\"\u001b[39m\u001b[38;5;124mYou must have public key to perform homomorphic xor\u001b[39m\u001b[38;5;124m\"\u001b[39m)\n\u001b[1;32m--> 118\u001b[0m result \u001b[38;5;241m=\u001b[39m \u001b[38;5;28;43mself\u001b[39;49m\u001b[38;5;241;43m.\u001b[39;49m\u001b[43mcs\u001b[49m\u001b[38;5;241;43m.\u001b[39;49m\u001b[43mxor\u001b[49m\u001b[43m(\u001b[49m\u001b[43mciphertext1\u001b[49m\u001b[38;5;241;43m=\u001b[39;49m\u001b[38;5;28;43mself\u001b[39;49m\u001b[38;5;241;43m.\u001b[39;49m\u001b[43mvalue\u001b[49m\u001b[43m,\u001b[49m\u001b[43m \u001b[49m\u001b[43mciphertext2\u001b[49m\u001b[38;5;241;43m=\u001b[39;49m\u001b[43mother\u001b[49m\u001b[38;5;241;43m.\u001b[39;49m\u001b[43mvalue\u001b[49m\u001b[43m)\u001b[49m\n\u001b[0;32m    119\u001b[0m \u001b[38;5;28;01mreturn\u001b[39;00m Ciphertext(algorithm_name\u001b[38;5;241m=\u001b[39m\u001b[38;5;28mself\u001b[39m\u001b[38;5;241m.\u001b[39malgorithm_name, keys\u001b[38;5;241m=\u001b[39m\u001b[38;5;28mself\u001b[39m\u001b[38;5;241m.\u001b[39mkeys, value\u001b[38;5;241m=\u001b[39mresult)\n",
      "File \u001b[1;32mc:\\Users\\benja\\OneDrive\\Ambiente de Trabalho\\Python\\Pytorch\\PYTORCH_NOTEBOOKS\\.conda\\Lib\\site-packages\\lightphe\\cryptosystems\\Paillier.py:119\u001b[0m, in \u001b[0;36mPaillier.xor\u001b[1;34m(self, ciphertext1, ciphertext2)\u001b[0m\n\u001b[0;32m    118\u001b[0m \u001b[38;5;28;01mdef\u001b[39;00m \u001b[38;5;21mxor\u001b[39m(\u001b[38;5;28mself\u001b[39m, ciphertext1: \u001b[38;5;28mint\u001b[39m, ciphertext2: \u001b[38;5;28mint\u001b[39m) \u001b[38;5;241m-\u001b[39m\u001b[38;5;241m>\u001b[39m \u001b[38;5;28mint\u001b[39m:\n\u001b[1;32m--> 119\u001b[0m     \u001b[38;5;28;01mraise\u001b[39;00m \u001b[38;5;167;01mValueError\u001b[39;00m(\u001b[38;5;124m\"\u001b[39m\u001b[38;5;124mPaillier is not homomorphic with respect to the exclusive or\u001b[39m\u001b[38;5;124m\"\u001b[39m)\n",
      "\u001b[1;31mValueError\u001b[0m: Paillier is not homomorphic with respect to the exclusive or"
     ]
    }
   ],
   "source": [
    "c1 ^c2"
   ]
  }
 ],
 "metadata": {
  "kernelspec": {
   "display_name": ".conda",
   "language": "python",
   "name": "python3"
  },
  "language_info": {
   "codemirror_mode": {
    "name": "ipython",
    "version": 3
   },
   "file_extension": ".py",
   "mimetype": "text/x-python",
   "name": "python",
   "nbconvert_exporter": "python",
   "pygments_lexer": "ipython3",
   "version": "3.12.2"
  }
 },
 "nbformat": 4,
 "nbformat_minor": 2
}
